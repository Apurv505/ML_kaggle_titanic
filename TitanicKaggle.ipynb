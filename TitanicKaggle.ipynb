{
  "nbformat": 4,
  "nbformat_minor": 0,
  "metadata": {
    "colab": {
      "name": "TitanicKaggle.ipynb",
      "provenance": []
    },
    "kernelspec": {
      "name": "python3",
      "display_name": "Python 3"
    },
    "language_info": {
      "name": "python"
    }
  },
  "cells": [
    {
      "cell_type": "code",
      "metadata": {
        "colab": {
          "base_uri": "https://localhost:8080/"
        },
        "id": "_urhk8y3fioh",
        "outputId": "b38a7f80-0cf5-4a52-f3a1-04b50041f972"
      },
      "source": [
        "from google.colab import drive\n",
        "drive.mount(\"/content/drive\")"
      ],
      "execution_count": null,
      "outputs": [
        {
          "output_type": "stream",
          "text": [
            "Drive already mounted at /content/drive; to attempt to forcibly remount, call drive.mount(\"/content/drive\", force_remount=True).\n"
          ],
          "name": "stdout"
        }
      ]
    },
    {
      "cell_type": "code",
      "metadata": {
        "id": "p0curlr1uxH-"
      },
      "source": [
        "import numpy as np, pandas as pd, os\n",
        "from sklearn.model_selection import train_test_split\n",
        "from sklearn.metrics import accuracy_score\n",
        "from sklearn.ensemble import RandomForestClassifier"
      ],
      "execution_count": null,
      "outputs": []
    },
    {
      "cell_type": "code",
      "metadata": {
        "id": "hFE7Xn7ZjXw1"
      },
      "source": [
        "tmp_train_data = pd.read_csv(\"/content/drive/MyDrive/Colab Projects Data/TitanicKaggle/train.csv\")\n",
        "test_data = pd.read_csv(\"/content/drive/MyDrive/Colab Projects Data/TitanicKaggle/test.csv\")\n",
        "train_data, validate_data = train_test_split(tmp_train_data, test_size = 0.2)\n",
        "train_data.describe()"
      ],
      "execution_count": null,
      "outputs": []
    },
    {
      "cell_type": "code",
      "metadata": {
        "colab": {
          "base_uri": "https://localhost:8080/",
          "height": 255
        },
        "id": "LXowKKiYsvp2",
        "outputId": "37bfc7af-de8b-433a-c2e7-3e9319340ee0"
      },
      "source": [
        "train_data.head()"
      ],
      "execution_count": null,
      "outputs": [
        {
          "output_type": "execute_result",
          "data": {
            "text/html": [
              "<div>\n",
              "<style scoped>\n",
              "    .dataframe tbody tr th:only-of-type {\n",
              "        vertical-align: middle;\n",
              "    }\n",
              "\n",
              "    .dataframe tbody tr th {\n",
              "        vertical-align: top;\n",
              "    }\n",
              "\n",
              "    .dataframe thead th {\n",
              "        text-align: right;\n",
              "    }\n",
              "</style>\n",
              "<table border=\"1\" class=\"dataframe\">\n",
              "  <thead>\n",
              "    <tr style=\"text-align: right;\">\n",
              "      <th></th>\n",
              "      <th>PassengerId</th>\n",
              "      <th>Survived</th>\n",
              "      <th>Pclass</th>\n",
              "      <th>Name</th>\n",
              "      <th>Sex</th>\n",
              "      <th>Age</th>\n",
              "      <th>SibSp</th>\n",
              "      <th>Parch</th>\n",
              "      <th>Ticket</th>\n",
              "      <th>Fare</th>\n",
              "      <th>Cabin</th>\n",
              "      <th>Embarked</th>\n",
              "    </tr>\n",
              "  </thead>\n",
              "  <tbody>\n",
              "    <tr>\n",
              "      <th>884</th>\n",
              "      <td>885</td>\n",
              "      <td>0</td>\n",
              "      <td>3</td>\n",
              "      <td>Sutehall, Mr. Henry Jr</td>\n",
              "      <td>male</td>\n",
              "      <td>25.00</td>\n",
              "      <td>0</td>\n",
              "      <td>0</td>\n",
              "      <td>SOTON/OQ 392076</td>\n",
              "      <td>7.0500</td>\n",
              "      <td>NaN</td>\n",
              "      <td>S</td>\n",
              "    </tr>\n",
              "    <tr>\n",
              "      <th>305</th>\n",
              "      <td>306</td>\n",
              "      <td>1</td>\n",
              "      <td>1</td>\n",
              "      <td>Allison, Master. Hudson Trevor</td>\n",
              "      <td>male</td>\n",
              "      <td>0.92</td>\n",
              "      <td>1</td>\n",
              "      <td>2</td>\n",
              "      <td>113781</td>\n",
              "      <td>151.5500</td>\n",
              "      <td>C22 C26</td>\n",
              "      <td>S</td>\n",
              "    </tr>\n",
              "    <tr>\n",
              "      <th>793</th>\n",
              "      <td>794</td>\n",
              "      <td>0</td>\n",
              "      <td>1</td>\n",
              "      <td>Hoyt, Mr. William Fisher</td>\n",
              "      <td>male</td>\n",
              "      <td>NaN</td>\n",
              "      <td>0</td>\n",
              "      <td>0</td>\n",
              "      <td>PC 17600</td>\n",
              "      <td>30.6958</td>\n",
              "      <td>NaN</td>\n",
              "      <td>C</td>\n",
              "    </tr>\n",
              "    <tr>\n",
              "      <th>133</th>\n",
              "      <td>134</td>\n",
              "      <td>1</td>\n",
              "      <td>2</td>\n",
              "      <td>Weisz, Mrs. Leopold (Mathilde Francoise Pede)</td>\n",
              "      <td>female</td>\n",
              "      <td>29.00</td>\n",
              "      <td>1</td>\n",
              "      <td>0</td>\n",
              "      <td>228414</td>\n",
              "      <td>26.0000</td>\n",
              "      <td>NaN</td>\n",
              "      <td>S</td>\n",
              "    </tr>\n",
              "    <tr>\n",
              "      <th>855</th>\n",
              "      <td>856</td>\n",
              "      <td>1</td>\n",
              "      <td>3</td>\n",
              "      <td>Aks, Mrs. Sam (Leah Rosen)</td>\n",
              "      <td>female</td>\n",
              "      <td>18.00</td>\n",
              "      <td>0</td>\n",
              "      <td>1</td>\n",
              "      <td>392091</td>\n",
              "      <td>9.3500</td>\n",
              "      <td>NaN</td>\n",
              "      <td>S</td>\n",
              "    </tr>\n",
              "  </tbody>\n",
              "</table>\n",
              "</div>"
            ],
            "text/plain": [
              "     PassengerId  Survived  Pclass  ...      Fare    Cabin  Embarked\n",
              "884          885         0       3  ...    7.0500      NaN         S\n",
              "305          306         1       1  ...  151.5500  C22 C26         S\n",
              "793          794         0       1  ...   30.6958      NaN         C\n",
              "133          134         1       2  ...   26.0000      NaN         S\n",
              "855          856         1       3  ...    9.3500      NaN         S\n",
              "\n",
              "[5 rows x 12 columns]"
            ]
          },
          "metadata": {
            "tags": []
          },
          "execution_count": 26
        }
      ]
    },
    {
      "cell_type": "code",
      "metadata": {
        "colab": {
          "base_uri": "https://localhost:8080/",
          "height": 328
        },
        "id": "475zQBh0tCE9",
        "outputId": "9aaad14b-c5a4-4620-c90f-820e7819a56c"
      },
      "source": [
        "train_data.corr()\n",
        "features = [\"Survived\", \"Pclass\", \"Sex\", \"SibSp\", \"Parch\", \"Embarked\" ]\n",
        "X_train_dummy = pd.get_dummies(train_data[features])\n",
        "X_train_dummy.corr()"
      ],
      "execution_count": null,
      "outputs": [
        {
          "output_type": "execute_result",
          "data": {
            "text/html": [
              "<div>\n",
              "<style scoped>\n",
              "    .dataframe tbody tr th:only-of-type {\n",
              "        vertical-align: middle;\n",
              "    }\n",
              "\n",
              "    .dataframe tbody tr th {\n",
              "        vertical-align: top;\n",
              "    }\n",
              "\n",
              "    .dataframe thead th {\n",
              "        text-align: right;\n",
              "    }\n",
              "</style>\n",
              "<table border=\"1\" class=\"dataframe\">\n",
              "  <thead>\n",
              "    <tr style=\"text-align: right;\">\n",
              "      <th></th>\n",
              "      <th>Survived</th>\n",
              "      <th>Pclass</th>\n",
              "      <th>SibSp</th>\n",
              "      <th>Parch</th>\n",
              "      <th>Sex_female</th>\n",
              "      <th>Sex_male</th>\n",
              "      <th>Embarked_C</th>\n",
              "      <th>Embarked_Q</th>\n",
              "      <th>Embarked_S</th>\n",
              "    </tr>\n",
              "  </thead>\n",
              "  <tbody>\n",
              "    <tr>\n",
              "      <th>Survived</th>\n",
              "      <td>1.000000</td>\n",
              "      <td>-0.321321</td>\n",
              "      <td>-0.047060</td>\n",
              "      <td>0.067035</td>\n",
              "      <td>0.546832</td>\n",
              "      <td>-0.546832</td>\n",
              "      <td>0.151542</td>\n",
              "      <td>0.026947</td>\n",
              "      <td>-0.156960</td>\n",
              "    </tr>\n",
              "    <tr>\n",
              "      <th>Pclass</th>\n",
              "      <td>-0.321321</td>\n",
              "      <td>1.000000</td>\n",
              "      <td>0.101241</td>\n",
              "      <td>0.027500</td>\n",
              "      <td>-0.116082</td>\n",
              "      <td>0.116082</td>\n",
              "      <td>-0.234029</td>\n",
              "      <td>0.222164</td>\n",
              "      <td>0.074503</td>\n",
              "    </tr>\n",
              "    <tr>\n",
              "      <th>SibSp</th>\n",
              "      <td>-0.047060</td>\n",
              "      <td>0.101241</td>\n",
              "      <td>1.000000</td>\n",
              "      <td>0.408947</td>\n",
              "      <td>0.086735</td>\n",
              "      <td>-0.086735</td>\n",
              "      <td>-0.066873</td>\n",
              "      <td>-0.032402</td>\n",
              "      <td>0.081590</td>\n",
              "    </tr>\n",
              "    <tr>\n",
              "      <th>Parch</th>\n",
              "      <td>0.067035</td>\n",
              "      <td>0.027500</td>\n",
              "      <td>0.408947</td>\n",
              "      <td>1.000000</td>\n",
              "      <td>0.254602</td>\n",
              "      <td>-0.254602</td>\n",
              "      <td>-0.023027</td>\n",
              "      <td>-0.068428</td>\n",
              "      <td>0.065927</td>\n",
              "    </tr>\n",
              "    <tr>\n",
              "      <th>Sex_female</th>\n",
              "      <td>0.546832</td>\n",
              "      <td>-0.116082</td>\n",
              "      <td>0.086735</td>\n",
              "      <td>0.254602</td>\n",
              "      <td>1.000000</td>\n",
              "      <td>-1.000000</td>\n",
              "      <td>0.064313</td>\n",
              "      <td>0.094821</td>\n",
              "      <td>-0.123963</td>\n",
              "    </tr>\n",
              "    <tr>\n",
              "      <th>Sex_male</th>\n",
              "      <td>-0.546832</td>\n",
              "      <td>0.116082</td>\n",
              "      <td>-0.086735</td>\n",
              "      <td>-0.254602</td>\n",
              "      <td>-1.000000</td>\n",
              "      <td>1.000000</td>\n",
              "      <td>-0.064313</td>\n",
              "      <td>-0.094821</td>\n",
              "      <td>0.123963</td>\n",
              "    </tr>\n",
              "    <tr>\n",
              "      <th>Embarked_C</th>\n",
              "      <td>0.151542</td>\n",
              "      <td>-0.234029</td>\n",
              "      <td>-0.066873</td>\n",
              "      <td>-0.023027</td>\n",
              "      <td>0.064313</td>\n",
              "      <td>-0.064313</td>\n",
              "      <td>1.000000</td>\n",
              "      <td>-0.146032</td>\n",
              "      <td>-0.776785</td>\n",
              "    </tr>\n",
              "    <tr>\n",
              "      <th>Embarked_Q</th>\n",
              "      <td>0.026947</td>\n",
              "      <td>0.222164</td>\n",
              "      <td>-0.032402</td>\n",
              "      <td>-0.068428</td>\n",
              "      <td>0.094821</td>\n",
              "      <td>-0.094821</td>\n",
              "      <td>-0.146032</td>\n",
              "      <td>1.000000</td>\n",
              "      <td>-0.498428</td>\n",
              "    </tr>\n",
              "    <tr>\n",
              "      <th>Embarked_S</th>\n",
              "      <td>-0.156960</td>\n",
              "      <td>0.074503</td>\n",
              "      <td>0.081590</td>\n",
              "      <td>0.065927</td>\n",
              "      <td>-0.123963</td>\n",
              "      <td>0.123963</td>\n",
              "      <td>-0.776785</td>\n",
              "      <td>-0.498428</td>\n",
              "      <td>1.000000</td>\n",
              "    </tr>\n",
              "  </tbody>\n",
              "</table>\n",
              "</div>"
            ],
            "text/plain": [
              "            Survived    Pclass     SibSp  ...  Embarked_C  Embarked_Q  Embarked_S\n",
              "Survived    1.000000 -0.321321 -0.047060  ...    0.151542    0.026947   -0.156960\n",
              "Pclass     -0.321321  1.000000  0.101241  ...   -0.234029    0.222164    0.074503\n",
              "SibSp      -0.047060  0.101241  1.000000  ...   -0.066873   -0.032402    0.081590\n",
              "Parch       0.067035  0.027500  0.408947  ...   -0.023027   -0.068428    0.065927\n",
              "Sex_female  0.546832 -0.116082  0.086735  ...    0.064313    0.094821   -0.123963\n",
              "Sex_male   -0.546832  0.116082 -0.086735  ...   -0.064313   -0.094821    0.123963\n",
              "Embarked_C  0.151542 -0.234029 -0.066873  ...    1.000000   -0.146032   -0.776785\n",
              "Embarked_Q  0.026947  0.222164 -0.032402  ...   -0.146032    1.000000   -0.498428\n",
              "Embarked_S -0.156960  0.074503  0.081590  ...   -0.776785   -0.498428    1.000000\n",
              "\n",
              "[9 rows x 9 columns]"
            ]
          },
          "metadata": {
            "tags": []
          },
          "execution_count": 27
        }
      ]
    },
    {
      "cell_type": "code",
      "metadata": {
        "colab": {
          "base_uri": "https://localhost:8080/"
        },
        "id": "Mfmb3P-dtw3f",
        "outputId": "ae010ec1-22a4-4543-a437-191b11fa8ffc"
      },
      "source": [
        "train_data.isna().sum()"
      ],
      "execution_count": null,
      "outputs": [
        {
          "output_type": "execute_result",
          "data": {
            "text/plain": [
              "PassengerId      0\n",
              "Survived         0\n",
              "Pclass           0\n",
              "Name             0\n",
              "Sex              0\n",
              "Age            144\n",
              "SibSp            0\n",
              "Parch            0\n",
              "Ticket           0\n",
              "Fare             0\n",
              "Cabin          553\n",
              "Embarked         2\n",
              "dtype: int64"
            ]
          },
          "metadata": {
            "tags": []
          },
          "execution_count": 28
        }
      ]
    },
    {
      "cell_type": "code",
      "metadata": {
        "colab": {
          "base_uri": "https://localhost:8080/"
        },
        "id": "dlMkTnVfflek",
        "outputId": "0568f05c-3a55-4ca0-d60d-8b935039f348"
      },
      "source": [
        "train_data[\"Embarked\"] = train_data[\"Embarked\"].fillna(axis=0,method='ffill')"
      ],
      "execution_count": null,
      "outputs": [
        {
          "output_type": "stream",
          "text": [
            "/usr/local/lib/python3.7/dist-packages/ipykernel_launcher.py:1: SettingWithCopyWarning: \n",
            "A value is trying to be set on a copy of a slice from a DataFrame.\n",
            "Try using .loc[row_indexer,col_indexer] = value instead\n",
            "\n",
            "See the caveats in the documentation: https://pandas.pydata.org/pandas-docs/stable/user_guide/indexing.html#returning-a-view-versus-a-copy\n",
            "  \"\"\"Entry point for launching an IPython kernel.\n"
          ],
          "name": "stderr"
        }
      ]
    },
    {
      "cell_type": "code",
      "metadata": {
        "colab": {
          "base_uri": "https://localhost:8080/"
        },
        "id": "YsNwPohfiDMK",
        "outputId": "67f4924f-0eda-42a6-9e2e-147a807fabd9"
      },
      "source": [
        "train_data.isna().sum()"
      ],
      "execution_count": null,
      "outputs": [
        {
          "output_type": "execute_result",
          "data": {
            "text/plain": [
              "PassengerId      0\n",
              "Survived         0\n",
              "Pclass           0\n",
              "Name             0\n",
              "Sex              0\n",
              "Age            144\n",
              "SibSp            0\n",
              "Parch            0\n",
              "Ticket           0\n",
              "Fare             0\n",
              "Cabin          553\n",
              "Embarked         2\n",
              "dtype: int64"
            ]
          },
          "metadata": {
            "tags": []
          },
          "execution_count": 32
        }
      ]
    },
    {
      "cell_type": "code",
      "metadata": {
        "id": "pbah2uI3iaau"
      },
      "source": [
        ""
      ],
      "execution_count": null,
      "outputs": []
    },
    {
      "cell_type": "code",
      "metadata": {
        "colab": {
          "base_uri": "https://localhost:8080/"
        },
        "id": "HJGRhkSniaoG",
        "outputId": "4e54098a-8631-46c9-e058-f78f47dad9b6"
      },
      "source": [
        "train_data.head()"
      ],
      "execution_count": null,
      "outputs": [
        {
          "output_type": "execute_result",
          "data": {
            "text/plain": [
              "780    C\n",
              "559    S\n",
              "637    S\n",
              "121    S\n",
              "310    C\n",
              "Name: Embarked, dtype: object"
            ]
          },
          "metadata": {
            "tags": []
          },
          "execution_count": 24
        }
      ]
    },
    {
      "cell_type": "code",
      "metadata": {
        "id": "kPvWx4Ic6X_C"
      },
      "source": [
        "y_train = train_data[\"Survived\"]\n",
        "y_validate = validate_data[\"Survived\"]\n",
        "\n",
        "features = [\"Pclass\", \"Sex\", \"SibSp\", \"Parch\" ,]\n",
        "\n",
        "X_train = pd.get_dummies(train_data[features])\n",
        "X_test = pd.get_dummies(test_data[features])\n",
        "X_validate = pd.get_dummies(validate_data[features])\n",
        "\n",
        "model = RandomForestClassifier(n_estimators=100, max_depth=5, random_state=1)\n",
        "model.fit(X_train,y_train)\n",
        "\n",
        "predictions = model.predict(X_test)\n",
        "#accuracy = accuracy_score(y_validate,predictions)\n",
        "#print(accuracy)\n"
      ],
      "execution_count": null,
      "outputs": []
    },
    {
      "cell_type": "code",
      "metadata": {
        "id": "K8J20j3y9-Uk"
      },
      "source": [
        "output = pd.DataFrame({'PassengerId':test_data.PassengerId, 'Survived': predictions})\n",
        "output.to_csv('my_submission.csv',index = False,)"
      ],
      "execution_count": null,
      "outputs": []
    }
  ]
}